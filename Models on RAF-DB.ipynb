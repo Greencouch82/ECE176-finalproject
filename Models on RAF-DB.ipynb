{
 "cells": [
  {
   "cell_type": "markdown",
   "id": "0b10191a",
   "metadata": {},
   "source": [
    "## Second dataset: RAF-DB"
   ]
  },
  {
   "cell_type": "markdown",
   "id": "82d2a809",
   "metadata": {},
   "source": [
    "### Import packages"
   ]
  },
  {
   "cell_type": "code",
   "execution_count": 17,
   "id": "85535967",
   "metadata": {},
   "outputs": [],
   "source": [
    "from tensorflow.keras.models import Sequential, model_from_json, Model\n",
    "from tensorflow.keras.layers import Conv2D, MaxPooling2D, Dense, Dropout, Flatten, BatchNormalization, Activation, Input, GlobalAveragePooling2D, ReLU, Multiply, Reshape\n",
    "from tensorflow.keras.optimizers import Adam\n",
    "from tensorflow.keras.preprocessing.image import ImageDataGenerator\n",
    "from tensorflow.keras.optimizers.schedules import ExponentialDecay\n",
    "\n",
    "import cv2\n",
    "import numpy as np\n",
    "import matplotlib.pyplot as plt\n",
    "\n",
    "import os\n",
    "import shutil\n",
    "from sklearn.model_selection import train_test_split\n",
    "\n",
    "from keras.utils import to_categorical\n",
    "\n",
    "from tensorflow.keras.regularizers import l2\n",
    "\n",
    "\n",
    "import matplotlib.pyplot as plt\n",
    "\n"
   ]
  },
  {
   "cell_type": "markdown",
   "id": "e2ca3a48",
   "metadata": {},
   "source": [
    "### Artificially create an unlabeled subset of dataset for semi-supervised learning using pseudo-labeling\n",
    "\n",
    "Note that this cell will error if run more than once since we've then already split the original training set."
   ]
  },
  {
   "cell_type": "code",
   "execution_count": 2,
   "id": "a32a02e0",
   "metadata": {},
   "outputs": [
    {
     "ename": "ValueError",
     "evalue": "With n_samples=0, test_size=0.2 and train_size=None, the resulting train set will be empty. Adjust any of the aforementioned parameters.",
     "output_type": "error",
     "traceback": [
      "\u001b[0;31m---------------------------------------------------------------------------\u001b[0m",
      "\u001b[0;31mValueError\u001b[0m                                Traceback (most recent call last)",
      "\u001b[0;32m/tmp/ipykernel_4110/774937739.py\u001b[0m in \u001b[0;36m<module>\u001b[0;34m\u001b[0m\n\u001b[1;32m     26\u001b[0m \u001b[0;34m\u001b[0m\u001b[0m\n\u001b[1;32m     27\u001b[0m     \u001b[0;31m# Split images into labeled and \"unlabeled\"\u001b[0m\u001b[0;34m\u001b[0m\u001b[0;34m\u001b[0m\u001b[0;34m\u001b[0m\u001b[0m\n\u001b[0;32m---> 28\u001b[0;31m     \u001b[0mlabeled_imgs\u001b[0m\u001b[0;34m,\u001b[0m \u001b[0munlabeled_imgs\u001b[0m \u001b[0;34m=\u001b[0m \u001b[0mtrain_test_split\u001b[0m\u001b[0;34m(\u001b[0m\u001b[0mimages\u001b[0m\u001b[0;34m,\u001b[0m \u001b[0mtest_size\u001b[0m\u001b[0;34m=\u001b[0m\u001b[0msplit_ratio\u001b[0m\u001b[0;34m,\u001b[0m \u001b[0mrandom_state\u001b[0m\u001b[0;34m=\u001b[0m\u001b[0;36m42\u001b[0m\u001b[0;34m)\u001b[0m\u001b[0;34m\u001b[0m\u001b[0;34m\u001b[0m\u001b[0m\n\u001b[0m\u001b[1;32m     29\u001b[0m \u001b[0;34m\u001b[0m\u001b[0m\n\u001b[1;32m     30\u001b[0m     \u001b[0;31m# Move images to their new directories\u001b[0m\u001b[0;34m\u001b[0m\u001b[0;34m\u001b[0m\u001b[0;34m\u001b[0m\u001b[0m\n",
      "\u001b[0;32m/opt/conda/lib/python3.9/site-packages/sklearn/model_selection/_split.py\u001b[0m in \u001b[0;36mtrain_test_split\u001b[0;34m(test_size, train_size, random_state, shuffle, stratify, *arrays)\u001b[0m\n\u001b[1;32m   2173\u001b[0m \u001b[0;34m\u001b[0m\u001b[0m\n\u001b[1;32m   2174\u001b[0m     \u001b[0mn_samples\u001b[0m \u001b[0;34m=\u001b[0m \u001b[0m_num_samples\u001b[0m\u001b[0;34m(\u001b[0m\u001b[0marrays\u001b[0m\u001b[0;34m[\u001b[0m\u001b[0;36m0\u001b[0m\u001b[0;34m]\u001b[0m\u001b[0;34m)\u001b[0m\u001b[0;34m\u001b[0m\u001b[0;34m\u001b[0m\u001b[0m\n\u001b[0;32m-> 2175\u001b[0;31m     n_train, n_test = _validate_shuffle_split(n_samples, test_size, train_size,\n\u001b[0m\u001b[1;32m   2176\u001b[0m                                               default_test_size=0.25)\n\u001b[1;32m   2177\u001b[0m \u001b[0;34m\u001b[0m\u001b[0m\n",
      "\u001b[0;32m/opt/conda/lib/python3.9/site-packages/sklearn/model_selection/_split.py\u001b[0m in \u001b[0;36m_validate_shuffle_split\u001b[0;34m(n_samples, test_size, train_size, default_test_size)\u001b[0m\n\u001b[1;32m   1855\u001b[0m \u001b[0;34m\u001b[0m\u001b[0m\n\u001b[1;32m   1856\u001b[0m     \u001b[0;32mif\u001b[0m \u001b[0mn_train\u001b[0m \u001b[0;34m==\u001b[0m \u001b[0;36m0\u001b[0m\u001b[0;34m:\u001b[0m\u001b[0;34m\u001b[0m\u001b[0;34m\u001b[0m\u001b[0m\n\u001b[0;32m-> 1857\u001b[0;31m         raise ValueError(\n\u001b[0m\u001b[1;32m   1858\u001b[0m             \u001b[0;34m'With n_samples={}, test_size={} and train_size={}, the '\u001b[0m\u001b[0;34m\u001b[0m\u001b[0;34m\u001b[0m\u001b[0m\n\u001b[1;32m   1859\u001b[0m             \u001b[0;34m'resulting train set will be empty. Adjust any of the '\u001b[0m\u001b[0;34m\u001b[0m\u001b[0;34m\u001b[0m\u001b[0m\n",
      "\u001b[0;31mValueError\u001b[0m: With n_samples=0, test_size=0.2 and train_size=None, the resulting train set will be empty. Adjust any of the aforementioned parameters."
     ]
    }
   ],
   "source": [
    "# Adjust the base directory to point to training data\n",
    "base_dir = 'datasets/RAF-DB/DATASET/train'  \n",
    "\n",
    "# Directories for labeled and \"unlabeled\" training data\n",
    "labeled_dir = os.path.join(base_dir, '../labeled_train')\n",
    "unlabeled_dir = os.path.join(base_dir, '../unlabeled_train')\n",
    "\n",
    "# Ensure the output directories exist\n",
    "os.makedirs(labeled_dir, exist_ok=True)\n",
    "os.makedirs(unlabeled_dir, exist_ok=True)\n",
    "\n",
    "# Split ratio\n",
    "split_ratio = 0.2  # 20% of training data is treated as \"unlabeled\"\n",
    "\n",
    "# List classes/categories\n",
    "classes = [dir for dir in os.listdir(base_dir) if os.path.isdir(os.path.join(base_dir, dir))]\n",
    "classes = sorted(classes)\n",
    "\n",
    "for class_name in classes:\n",
    "    # Create target directories for both labeled and unlabeled data\n",
    "    os.makedirs(os.path.join(labeled_dir, class_name), exist_ok=True)\n",
    "    os.makedirs(os.path.join(unlabeled_dir, class_name), exist_ok=True)\n",
    "    \n",
    "    class_dir = os.path.join(base_dir, class_name)\n",
    "    images = [img for img in os.listdir(class_dir) if img.lower().endswith(('png', 'jpg', 'jpeg'))]\n",
    "    \n",
    "    # Split images into labeled and \"unlabeled\"\n",
    "    labeled_imgs, unlabeled_imgs = train_test_split(images, test_size=split_ratio, random_state=42)\n",
    "    \n",
    "    # Move images to their new directories\n",
    "    for img in labeled_imgs:\n",
    "        shutil.move(os.path.join(class_dir, img), os.path.join(labeled_dir, class_name, img))\n",
    "    \n",
    "    for img in unlabeled_imgs:\n",
    "        shutil.move(os.path.join(class_dir, img), os.path.join(unlabeled_dir, class_name, img))"
   ]
  },
  {
   "cell_type": "markdown",
   "id": "94269020",
   "metadata": {},
   "source": [
    "### Preprocess images"
   ]
  },
  {
   "cell_type": "code",
   "execution_count": 3,
   "id": "2c3dbcb7",
   "metadata": {},
   "outputs": [
    {
     "name": "stdout",
     "output_type": "stream",
     "text": [
      "Found 8789 images belonging to 7 classes.\n",
      "Found 2195 images belonging to 7 classes.\n",
      "Found 2457 images belonging to 7 classes.\n",
      "Found 3068 images belonging to 7 classes.\n"
     ]
    }
   ],
   "source": [
    "# Initialize the data generators\n",
    "train_data_gen = ImageDataGenerator(\n",
    "    rescale=1./255, \n",
    "    validation_split=0.2  # Using 20% of the labeled data for validation\n",
    ")\n",
    "\n",
    "# Load the labeled training data and split it into training and validation sets\n",
    "train_generator = train_data_gen.flow_from_directory(\n",
    "    'datasets/RAF-DB/DATASET/labeled_train',  \n",
    "    target_size=(48, 48),\n",
    "    batch_size=64,\n",
    "    color_mode=\"grayscale\",\n",
    "    class_mode='categorical',\n",
    "    subset='training'  \n",
    ")\n",
    "\n",
    "validation_generator = train_data_gen.flow_from_directory(\n",
    "    'datasets/RAF-DB/DATASET/labeled_train',  \n",
    "    target_size=(48, 48),\n",
    "    batch_size=64,\n",
    "    color_mode=\"grayscale\",\n",
    "    class_mode='categorical',\n",
    "    subset='validation' \n",
    ")\n",
    "\n",
    "# Initialize unlabeled data generator\n",
    "unlabeled_data_gen = ImageDataGenerator(rescale=1./255)\n",
    "\n",
    "unlabeled_generator = unlabeled_data_gen.flow_from_directory(\n",
    "    'datasets/RAF-DB/DATASET/unlabeled_train',  \n",
    "    target_size=(48, 48),  \n",
    "    batch_size=64, \n",
    "    color_mode=\"grayscale\", \n",
    "    class_mode=None,  # must set to None for unlabeled data\n",
    "    shuffle=False  \n",
    ")\n",
    "\n",
    "# Initialize the test data generator\n",
    "test_data_gen = ImageDataGenerator(rescale=1./255)\n",
    "\n",
    "# Load the test data\n",
    "test_generator = test_data_gen.flow_from_directory(\n",
    "    'datasets/RAF-DB/DATASET/test',  \n",
    "    target_size=(48, 48),\n",
    "    batch_size=64,\n",
    "    color_mode=\"grayscale\",\n",
    "    class_mode='categorical'  \n",
    ")\n"
   ]
  },
  {
   "cell_type": "markdown",
   "id": "27cb826e",
   "metadata": {},
   "source": [
    "### Set up example model"
   ]
  },
  {
   "cell_type": "code",
   "execution_count": 4,
   "id": "3d3ccc62",
   "metadata": {},
   "outputs": [
    {
     "name": "stderr",
     "output_type": "stream",
     "text": [
      "2024-03-22 02:25:57.536962: I tensorflow/core/common_runtime/gpu/gpu_device.cc:1639] Created device /job:localhost/replica:0/task:0/device:GPU:0 with 10398 MB memory:  -> device: 0, name: NVIDIA GeForce GTX 1080 Ti, pci bus id: 0000:04:00.0, compute capability: 6.1\n"
     ]
    },
    {
     "name": "stdout",
     "output_type": "stream",
     "text": [
      "Model: \"sequential\"\n",
      "_________________________________________________________________\n",
      " Layer (type)                Output Shape              Param #   \n",
      "=================================================================\n",
      " conv2d (Conv2D)             (None, 46, 46, 32)        320       \n",
      "                                                                 \n",
      " batch_normalization (Batch  (None, 46, 46, 32)        128       \n",
      " Normalization)                                                  \n",
      "                                                                 \n",
      " conv2d_1 (Conv2D)           (None, 44, 44, 64)        18496     \n",
      "                                                                 \n",
      " batch_normalization_1 (Bat  (None, 44, 44, 64)        256       \n",
      " chNormalization)                                                \n",
      "                                                                 \n",
      " max_pooling2d (MaxPooling2  (None, 22, 22, 64)        0         \n",
      " D)                                                              \n",
      "                                                                 \n",
      " dropout (Dropout)           (None, 22, 22, 64)        0         \n",
      "                                                                 \n",
      " conv2d_2 (Conv2D)           (None, 20, 20, 128)       73856     \n",
      "                                                                 \n",
      " batch_normalization_2 (Bat  (None, 20, 20, 128)       512       \n",
      " chNormalization)                                                \n",
      "                                                                 \n",
      " max_pooling2d_1 (MaxPoolin  (None, 10, 10, 128)       0         \n",
      " g2D)                                                            \n",
      "                                                                 \n",
      " conv2d_3 (Conv2D)           (None, 8, 8, 128)         147584    \n",
      "                                                                 \n",
      " batch_normalization_3 (Bat  (None, 8, 8, 128)         512       \n",
      " chNormalization)                                                \n",
      "                                                                 \n",
      " max_pooling2d_2 (MaxPoolin  (None, 4, 4, 128)         0         \n",
      " g2D)                                                            \n",
      "                                                                 \n",
      " dropout_1 (Dropout)         (None, 4, 4, 128)         0         \n",
      "                                                                 \n",
      " flatten (Flatten)           (None, 2048)              0         \n",
      "                                                                 \n",
      " dense (Dense)               (None, 1024)              2098176   \n",
      "                                                                 \n",
      " batch_normalization_4 (Bat  (None, 1024)              4096      \n",
      " chNormalization)                                                \n",
      "                                                                 \n",
      " dropout_2 (Dropout)         (None, 1024)              0         \n",
      "                                                                 \n",
      " dense_1 (Dense)             (None, 7)                 7175      \n",
      "                                                                 \n",
      "=================================================================\n",
      "Total params: 2351111 (8.97 MB)\n",
      "Trainable params: 2348359 (8.96 MB)\n",
      "Non-trainable params: 2752 (10.75 KB)\n",
      "_________________________________________________________________\n"
     ]
    }
   ],
   "source": [
    "model = Sequential() # initialize Sequential model\n",
    "\n",
    "# add 2 conv layers\n",
    "model.add(Conv2D(32, kernel_size=(3, 3), input_shape=(48, 48, 1), activation='relu'))\n",
    "model.add(BatchNormalization())  \n",
    "model.add(Conv2D(64, kernel_size=(3, 3), activation='relu'))\n",
    "model.add(BatchNormalization()) \n",
    "# add max pooling layer\n",
    "model.add(MaxPooling2D(pool_size=(2, 2)))\n",
    "# add 25% dropout \n",
    "model.add(Dropout(0.25))\n",
    "\n",
    "# add 2 more conv layers, 2 more max pooling layers, and dropout again\n",
    "model.add(Conv2D(128, kernel_size=(3, 3), activation='relu'))\n",
    "model.add(BatchNormalization())  \n",
    "model.add(MaxPooling2D(pool_size=(2, 2)))\n",
    "model.add(Conv2D(128, kernel_size=(3, 3), activation='relu'))\n",
    "model.add(BatchNormalization())  \n",
    "model.add(MaxPooling2D(pool_size=(2, 2)))\n",
    "model.add(Dropout(0.25))\n",
    "\n",
    "# flatten into 1D vector\n",
    "model.add(Flatten())\n",
    "# fully-connected layer \n",
    "model.add(Dense(1024, activation='relu'))\n",
    "model.add(BatchNormalization())\n",
    "model.add(Dropout(0.5))\n",
    "# softmax to turn into class probabilities\n",
    "model.add(Dense(7, activation='softmax'))\n",
    "\n",
    "model.summary()\n",
    "\n",
    "# disable OpenCL\n",
    "cv2.ocl.setUseOpenCL(False)\n",
    "\n",
    "# set up learning rate scheduler, starting at 0.0001\n",
    "initial_learning_rate = 0.0001\n",
    "lr_schedule = ExponentialDecay(initial_learning_rate, decay_steps=100000, decay_rate=0.96)\n",
    "\n",
    "# use Adam optimizer\n",
    "optimizer = Adam(learning_rate=lr_schedule)\n",
    "\n",
    "# compile model\n",
    "model.compile(loss='categorical_crossentropy', optimizer=optimizer, metrics=['accuracy'])\n"
   ]
  },
  {
   "cell_type": "markdown",
   "id": "6c3b1088",
   "metadata": {},
   "source": [
    "### Train the model on labeled data first"
   ]
  },
  {
   "cell_type": "code",
   "execution_count": 5,
   "id": "86e7a296",
   "metadata": {},
   "outputs": [
    {
     "name": "stdout",
     "output_type": "stream",
     "text": [
      "Epoch 1/25\n"
     ]
    },
    {
     "name": "stderr",
     "output_type": "stream",
     "text": [
      "2024-03-22 02:26:03.527973: E tensorflow/core/grappler/optimizers/meta_optimizer.cc:954] layout failed: INVALID_ARGUMENT: Size of values 0 does not match size of permutation 4 @ fanin shape insequential/dropout/dropout/SelectV2-2-TransposeNHWCToNCHW-LayoutOptimizer\n",
      "2024-03-22 02:26:04.439644: I tensorflow/compiler/xla/stream_executor/cuda/cuda_dnn.cc:432] Loaded cuDNN version 8600\n",
      "2024-03-22 02:26:05.438334: I tensorflow/compiler/xla/service/service.cc:168] XLA service 0x7f359800c070 initialized for platform CUDA (this does not guarantee that XLA will be used). Devices:\n",
      "2024-03-22 02:26:05.438413: I tensorflow/compiler/xla/service/service.cc:176]   StreamExecutor device (0): NVIDIA GeForce GTX 1080 Ti, Compute Capability 6.1\n",
      "2024-03-22 02:26:05.451984: I tensorflow/compiler/mlir/tensorflow/utils/dump_mlir_util.cc:255] disabling MLIR crash reproducer, set env var `MLIR_CRASH_REPRODUCER_DIRECTORY` to enable.\n",
      "2024-03-22 02:26:05.657880: I ./tensorflow/compiler/jit/device_compiler.h:186] Compiled cluster using XLA!  This line is logged at most once for the lifetime of the process.\n"
     ]
    },
    {
     "name": "stdout",
     "output_type": "stream",
     "text": [
      "122/122 [==============================] - 18s 90ms/step - loss: 2.3493 - accuracy: 0.3253 - val_loss: 1.8850 - val_accuracy: 0.4104\n",
      "Epoch 2/25\n",
      "122/122 [==============================] - 7s 60ms/step - loss: 1.8285 - accuracy: 0.4641 - val_loss: 1.7710 - val_accuracy: 0.4151\n",
      "Epoch 3/25\n",
      "122/122 [==============================] - 6s 52ms/step - loss: 1.5603 - accuracy: 0.5279 - val_loss: 1.5410 - val_accuracy: 0.5156\n",
      "Epoch 4/25\n",
      "122/122 [==============================] - 5s 44ms/step - loss: 1.4195 - accuracy: 0.5659 - val_loss: 1.2442 - val_accuracy: 0.5786\n",
      "Epoch 5/25\n",
      "122/122 [==============================] - 6s 52ms/step - loss: 1.3219 - accuracy: 0.5984 - val_loss: 0.9651 - val_accuracy: 0.6635\n",
      "Epoch 6/25\n",
      "122/122 [==============================] - 6s 52ms/step - loss: 1.2226 - accuracy: 0.6236 - val_loss: 0.8771 - val_accuracy: 0.7047\n",
      "Epoch 7/25\n",
      "122/122 [==============================] - 6s 51ms/step - loss: 1.1437 - accuracy: 0.6457 - val_loss: 0.8441 - val_accuracy: 0.7141\n",
      "Epoch 8/25\n",
      "122/122 [==============================] - 6s 45ms/step - loss: 1.0849 - accuracy: 0.6571 - val_loss: 0.8024 - val_accuracy: 0.7312\n",
      "Epoch 9/25\n",
      "122/122 [==============================] - 6s 53ms/step - loss: 1.0147 - accuracy: 0.6720 - val_loss: 0.7766 - val_accuracy: 0.7328\n",
      "Epoch 10/25\n",
      "122/122 [==============================] - 7s 53ms/step - loss: 0.9410 - accuracy: 0.6998 - val_loss: 0.7928 - val_accuracy: 0.7292\n",
      "Epoch 11/25\n",
      "122/122 [==============================] - 6s 52ms/step - loss: 0.9382 - accuracy: 0.6930 - val_loss: 0.7673 - val_accuracy: 0.7370\n",
      "Epoch 12/25\n",
      "122/122 [==============================] - 7s 54ms/step - loss: 0.9043 - accuracy: 0.7028 - val_loss: 0.7587 - val_accuracy: 0.7464\n",
      "Epoch 13/25\n",
      "122/122 [==============================] - 6s 49ms/step - loss: 0.8497 - accuracy: 0.7209 - val_loss: 0.7247 - val_accuracy: 0.7667\n",
      "Epoch 14/25\n",
      "122/122 [==============================] - 6s 47ms/step - loss: 0.8133 - accuracy: 0.7306 - val_loss: 0.7323 - val_accuracy: 0.7604\n",
      "Epoch 15/25\n",
      "122/122 [==============================] - 6s 51ms/step - loss: 0.7594 - accuracy: 0.7442 - val_loss: 0.7035 - val_accuracy: 0.7729\n",
      "Epoch 16/25\n",
      "122/122 [==============================] - 6s 51ms/step - loss: 0.7279 - accuracy: 0.7531 - val_loss: 0.7435 - val_accuracy: 0.7547\n",
      "Epoch 17/25\n",
      "122/122 [==============================] - 6s 51ms/step - loss: 0.7164 - accuracy: 0.7603 - val_loss: 0.7260 - val_accuracy: 0.7667\n",
      "Epoch 18/25\n",
      "122/122 [==============================] - 6s 50ms/step - loss: 0.6988 - accuracy: 0.7593 - val_loss: 0.7117 - val_accuracy: 0.7719\n",
      "Epoch 19/25\n",
      "122/122 [==============================] - 6s 52ms/step - loss: 0.6786 - accuracy: 0.7715 - val_loss: 0.7236 - val_accuracy: 0.7651\n",
      "Epoch 20/25\n",
      "122/122 [==============================] - 7s 53ms/step - loss: 0.6531 - accuracy: 0.7751 - val_loss: 0.7169 - val_accuracy: 0.7682\n",
      "Epoch 21/25\n",
      "122/122 [==============================] - 6s 50ms/step - loss: 0.6206 - accuracy: 0.7842 - val_loss: 0.7251 - val_accuracy: 0.7677\n",
      "Epoch 22/25\n",
      "122/122 [==============================] - 6s 53ms/step - loss: 0.5954 - accuracy: 0.7907 - val_loss: 0.6679 - val_accuracy: 0.7896\n",
      "Epoch 23/25\n",
      "122/122 [==============================] - 6s 50ms/step - loss: 0.5939 - accuracy: 0.7914 - val_loss: 0.7196 - val_accuracy: 0.7630\n",
      "Epoch 24/25\n",
      "122/122 [==============================] - 6s 53ms/step - loss: 0.5766 - accuracy: 0.7958 - val_loss: 0.6820 - val_accuracy: 0.7760\n",
      "Epoch 25/25\n",
      "122/122 [==============================] - 6s 52ms/step - loss: 0.5221 - accuracy: 0.8147 - val_loss: 0.6655 - val_accuracy: 0.7896\n"
     ]
    }
   ],
   "source": [
    "# Initial training with labeled data\n",
    "model_info = model.fit(\n",
    "    train_generator,\n",
    "    steps_per_epoch=7855 // 64,  \n",
    "    epochs=25,  \n",
    "    validation_data=validation_generator,\n",
    "    validation_steps=1959 // 64  \n",
    ")"
   ]
  },
  {
   "cell_type": "markdown",
   "id": "ab4d593c",
   "metadata": {},
   "source": [
    "### Visualizations"
   ]
  },
  {
   "cell_type": "code",
   "execution_count": 6,
   "id": "05c6c0aa",
   "metadata": {},
   "outputs": [
    {
     "data": {
      "image/png": "[encoded data removed]",
      "text/plain": [
       "<Figure size 432x288 with 2 Axes>"
      ]
     },
     "metadata": {
      "needs_background": "light"
     },
     "output_type": "display_data"
    }
   ],
   "source": [
    "accuracy = model_info.history['accuracy']\n",
    "val_accuracy = model_info.history['val_accuracy']\n",
    "loss = model_info.history['loss']\n",
    "val_loss = model_info.history['val_loss']\n",
    "\n",
    "# accuracy graph\n",
    "plt.subplot(1, 2, 1)\n",
    "plt.plot(accuracy, label='accuracy')\n",
    "plt.plot(val_accuracy, label='val accuracy')\n",
    "plt.title('Accuracy Graph')\n",
    "plt.xlabel('Epochs')\n",
    "plt.ylabel('Accuracy')\n",
    "plt.legend()\n",
    "\n",
    "# loss graph\n",
    "plt.subplot(1, 2, 2)\n",
    "plt.plot(loss, label='loss')\n",
    "plt.plot(val_loss, label='val loss')\n",
    "plt.title('Loss Graph')\n",
    "plt.xlabel('Epochs')\n",
    "plt.ylabel('Loss')\n",
    "plt.legend()\n",
    "\n",
    "plt.show()\n"
   ]
  },
  {
   "cell_type": "markdown",
   "id": "b9d3a861",
   "metadata": {},
   "source": [
    "### Now, train on unlabeled data"
   ]
  },
  {
   "cell_type": "code",
   "execution_count": 7,
   "id": "6c6f878f",
   "metadata": {},
   "outputs": [
    {
     "name": "stdout",
     "output_type": "stream",
     "text": [
      "39/39 [==============================] - 3s 65ms/step\n"
     ]
    }
   ],
   "source": [
    "# Step 1: Predict class probabilities for the unlabeled data\n",
    "predicted_probabilities = model.predict(unlabeled_generator)\n",
    "\n",
    "# Step 2: Generate pseudo-labels from these predictions\n",
    "pseudo_labels = np.argmax(predicted_probabilities, axis=1)\n",
    "\n",
    "# Define a confidence threshold\n",
    "confidence_threshold = 0.9\n",
    "\n",
    "# Step 3: Create a mask for predictions that exceed the confidence threshold\n",
    "high_confidence_mask = np.max(predicted_probabilities, axis=1) > confidence_threshold\n",
    "\n",
    "# Apply the mask to filter out the filenames and predictions\n",
    "high_confidence_filenames = np.array(unlabeled_generator.filenames)[high_confidence_mask]\n",
    "high_confidence_predictions = pseudo_labels[high_confidence_mask]\n",
    "\n"
   ]
  },
  {
   "cell_type": "code",
   "execution_count": 8,
   "id": "44b18d23",
   "metadata": {},
   "outputs": [
    {
     "data": {
      "text/plain": [
       "array([0, 1, 2, 3, 4, 5, 6])"
      ]
     },
     "execution_count": 8,
     "metadata": {},
     "output_type": "execute_result"
    }
   ],
   "source": [
    "np.unique(pseudo_labels)"
   ]
  },
  {
   "cell_type": "code",
   "execution_count": 9,
   "id": "a586718b",
   "metadata": {},
   "outputs": [],
   "source": [
    "# Organize images\n",
    "for filename, pseudo_label in zip(high_confidence_filenames, high_confidence_predictions):\n",
    "#     # Ensure the pseudo_label is an integer or a valid class name\n",
    "#     assert isinstance(pseudo_label, int), \"Pseudo-label must be an integer\"\n",
    "    \n",
    "    # Define the source path for the pseudo-labeled image\n",
    "    source_path = os.path.join(unlabeled_dir, filename)\n",
    "    \n",
    "    # Define the destination directory based on the pseudo-label\n",
    "    destination_dir = os.path.join(labeled_dir, str(pseudo_label + 1))\n",
    "    if not os.path.exists(destination_dir):\n",
    "        os.makedirs(destination_dir, exist_ok=True)\n",
    "    \n",
    "    # Define the destination path for the pseudo-labeled image\n",
    "    destination_path = os.path.join(destination_dir, os.path.basename(filename))\n",
    "    \n",
    "    # Copy the pseudo-labeled image to the destination\n",
    "    shutil.copy(source_path, destination_path)\n"
   ]
  },
  {
   "cell_type": "code",
   "execution_count": 10,
   "id": "52d30255",
   "metadata": {},
   "outputs": [
    {
     "data": {
      "text/plain": [
       "'datasets/RAF-DB/DATASET/train/../labeled_train'"
      ]
     },
     "execution_count": 10,
     "metadata": {},
     "output_type": "execute_result"
    }
   ],
   "source": [
    "labeled_dir"
   ]
  },
  {
   "cell_type": "code",
   "execution_count": 11,
   "id": "c29666a1",
   "metadata": {},
   "outputs": [],
   "source": [
    "checkpoints_path = os.path.join(labeled_dir, '.ipynb_checkpoints')\n",
    "if os.path.exists(checkpoints_path):\n",
    "    shutil.rmtree(checkpoints_path)"
   ]
  },
  {
   "cell_type": "code",
   "execution_count": 12,
   "id": "8d14b2e2",
   "metadata": {},
   "outputs": [
    {
     "name": "stdout",
     "output_type": "stream",
     "text": [
      "Found 8989 images belonging to 7 classes.\n"
     ]
    }
   ],
   "source": [
    "# Initialize the data generator for the combined labeled and pseudo-labeled data\n",
    "train_data_gen_combined = ImageDataGenerator(\n",
    "    rescale=1./255,\n",
    "    validation_split=0.2  \n",
    ")\n",
    "\n",
    "# Load the combined training data\n",
    "train_generator_combined = train_data_gen_combined.flow_from_directory(\n",
    "    labeled_dir,  # both labeled and unlabeled images\n",
    "    target_size=(48, 48),\n",
    "    batch_size=64,\n",
    "    color_mode=\"grayscale\",\n",
    "    class_mode='categorical',\n",
    "    subset='training'\n",
    ")\n"
   ]
  },
  {
   "cell_type": "code",
   "execution_count": 13,
   "id": "4e8e4279",
   "metadata": {},
   "outputs": [
    {
     "name": "stdout",
     "output_type": "stream",
     "text": [
      "{'1': 0, '2': 1, '3': 2, '4': 3, '5': 4, '6': 5, '7': 6}\n",
      "{'1': 0, '2': 1, '3': 2, '4': 3, '5': 4, '6': 5, '7': 6}\n"
     ]
    }
   ],
   "source": [
    "print(train_generator_combined.class_indices)\n",
    "print(validation_generator.class_indices)"
   ]
  },
  {
   "cell_type": "code",
   "execution_count": 15,
   "id": "bb20b477",
   "metadata": {},
   "outputs": [
    {
     "name": "stdout",
     "output_type": "stream",
     "text": [
      "Epoch 1/10\n",
      "140/140 [==============================] - 8s 56ms/step - loss: 0.4946 - accuracy: 0.8261 - val_loss: 0.6840 - val_accuracy: 0.7909\n",
      "Epoch 2/10\n",
      "140/140 [==============================] - 7s 51ms/step - loss: 0.4597 - accuracy: 0.8375 - val_loss: 0.6738 - val_accuracy: 0.7932\n",
      "Epoch 3/10\n",
      "140/140 [==============================] - 7s 50ms/step - loss: 0.4715 - accuracy: 0.8342 - val_loss: 0.6865 - val_accuracy: 0.7872\n",
      "Epoch 4/10\n",
      "140/140 [==============================] - 7s 48ms/step - loss: 0.4376 - accuracy: 0.8425 - val_loss: 0.6759 - val_accuracy: 0.7918\n",
      "Epoch 5/10\n",
      "140/140 [==============================] - 7s 51ms/step - loss: 0.4228 - accuracy: 0.8458 - val_loss: 0.6567 - val_accuracy: 0.7992\n",
      "Epoch 6/10\n",
      "140/140 [==============================] - 7s 49ms/step - loss: 0.4083 - accuracy: 0.8545 - val_loss: 0.6865 - val_accuracy: 0.7923\n",
      "Epoch 7/10\n",
      "140/140 [==============================] - 7s 50ms/step - loss: 0.3966 - accuracy: 0.8561 - val_loss: 0.6804 - val_accuracy: 0.7900\n",
      "Epoch 8/10\n",
      "140/140 [==============================] - 7s 53ms/step - loss: 0.3734 - accuracy: 0.8711 - val_loss: 0.6794 - val_accuracy: 0.7946\n",
      "Epoch 9/10\n",
      "140/140 [==============================] - 8s 58ms/step - loss: 0.3563 - accuracy: 0.8711 - val_loss: 0.6609 - val_accuracy: 0.8028\n",
      "Epoch 10/10\n",
      "140/140 [==============================] - 7s 48ms/step - loss: 0.3375 - accuracy: 0.8757 - val_loss: 0.6655 - val_accuracy: 0.7950\n"
     ]
    }
   ],
   "source": [
    "# Retrain the model on the combined dataset\n",
    "steps_per_epoch = train_generator_combined.samples // train_generator_combined.batch_size\n",
    "validation_steps = validation_generator.samples // validation_generator.batch_size\n",
    "\n",
    "model_info = model.fit(\n",
    "    train_generator_combined,\n",
    "    steps_per_epoch=steps_per_epoch,\n",
    "    epochs=10,  \n",
    "    validation_data=validation_generator,\n",
    "    validation_steps=validation_steps\n",
    ")\n"
   ]
  },
  {
   "cell_type": "markdown",
   "id": "bae447cd",
   "metadata": {},
   "source": [
    "## Now, do this again but with our actual model (with attention)"
   ]
  },
  {
   "cell_type": "code",
   "execution_count": 18,
   "id": "2834e710",
   "metadata": {},
   "outputs": [
    {
     "name": "stdout",
     "output_type": "stream",
     "text": [
      "Model: \"model\"\n",
      "__________________________________________________________________________________________________\n",
      " Layer (type)                Output Shape                 Param #   Connected to                  \n",
      "==================================================================================================\n",
      " input_2 (InputLayer)        [(None, 48, 48, 1)]          0         []                            \n",
      "                                                                                                  \n",
      " conv2d_5 (Conv2D)           (None, 48, 48, 32)           320       ['input_2[0][0]']             \n",
      "                                                                                                  \n",
      " re_lu_1 (ReLU)              (None, 48, 48, 32)           0         ['conv2d_5[0][0]']            \n",
      "                                                                                                  \n",
      " batch_normalization_6 (Bat  (None, 48, 48, 32)           128       ['re_lu_1[0][0]']             \n",
      " chNormalization)                                                                                 \n",
      "                                                                                                  \n",
      " global_average_pooling2d_1  (None, 32)                   0         ['batch_normalization_6[0][0]'\n",
      "  (GlobalAveragePooling2D)                                          ]                             \n",
      "                                                                                                  \n",
      " dense_4 (Dense)             (None, 2)                    64        ['global_average_pooling2d_1[0\n",
      "                                                                    ][0]']                        \n",
      "                                                                                                  \n",
      " dense_5 (Dense)             (None, 32)                   64        ['dense_4[0][0]']             \n",
      "                                                                                                  \n",
      " reshape_1 (Reshape)         (None, 1, 1, 32)             0         ['dense_5[0][0]']             \n",
      "                                                                                                  \n",
      " multiply (Multiply)         (None, 48, 48, 32)           0         ['batch_normalization_6[0][0]'\n",
      "                                                                    , 'reshape_1[0][0]']          \n",
      "                                                                                                  \n",
      " conv2d_6 (Conv2D)           (None, 48, 48, 64)           18496     ['multiply[0][0]']            \n",
      "                                                                                                  \n",
      " re_lu_2 (ReLU)              (None, 48, 48, 64)           0         ['conv2d_6[0][0]']            \n",
      "                                                                                                  \n",
      " batch_normalization_7 (Bat  (None, 48, 48, 64)           256       ['re_lu_2[0][0]']             \n",
      " chNormalization)                                                                                 \n",
      "                                                                                                  \n",
      " global_average_pooling2d_2  (None, 64)                   0         ['batch_normalization_7[0][0]'\n",
      "  (GlobalAveragePooling2D)                                          ]                             \n",
      "                                                                                                  \n",
      " dense_6 (Dense)             (None, 4)                    256       ['global_average_pooling2d_2[0\n",
      "                                                                    ][0]']                        \n",
      "                                                                                                  \n",
      " dense_7 (Dense)             (None, 64)                   256       ['dense_6[0][0]']             \n",
      "                                                                                                  \n",
      " reshape_2 (Reshape)         (None, 1, 1, 64)             0         ['dense_7[0][0]']             \n",
      "                                                                                                  \n",
      " multiply_1 (Multiply)       (None, 48, 48, 64)           0         ['batch_normalization_7[0][0]'\n",
      "                                                                    , 'reshape_2[0][0]']          \n",
      "                                                                                                  \n",
      " max_pooling2d_3 (MaxPoolin  (None, 24, 24, 64)           0         ['multiply_1[0][0]']          \n",
      " g2D)                                                                                             \n",
      "                                                                                                  \n",
      " dropout_3 (Dropout)         (None, 24, 24, 64)           0         ['max_pooling2d_3[0][0]']     \n",
      "                                                                                                  \n",
      " conv2d_7 (Conv2D)           (None, 24, 24, 128)          73856     ['dropout_3[0][0]']           \n",
      "                                                                                                  \n",
      " re_lu_3 (ReLU)              (None, 24, 24, 128)          0         ['conv2d_7[0][0]']            \n",
      "                                                                                                  \n",
      " batch_normalization_8 (Bat  (None, 24, 24, 128)          512       ['re_lu_3[0][0]']             \n",
      " chNormalization)                                                                                 \n",
      "                                                                                                  \n",
      " global_average_pooling2d_3  (None, 128)                  0         ['batch_normalization_8[0][0]'\n",
      "  (GlobalAveragePooling2D)                                          ]                             \n",
      "                                                                                                  \n",
      " dense_8 (Dense)             (None, 8)                    1024      ['global_average_pooling2d_3[0\n",
      "                                                                    ][0]']                        \n",
      "                                                                                                  \n",
      " dense_9 (Dense)             (None, 128)                  1024      ['dense_8[0][0]']             \n",
      "                                                                                                  \n",
      " reshape_3 (Reshape)         (None, 1, 1, 128)            0         ['dense_9[0][0]']             \n",
      "                                                                                                  \n",
      " multiply_2 (Multiply)       (None, 24, 24, 128)          0         ['batch_normalization_8[0][0]'\n",
      "                                                                    , 'reshape_3[0][0]']          \n",
      "                                                                                                  \n",
      " max_pooling2d_4 (MaxPoolin  (None, 12, 12, 128)          0         ['multiply_2[0][0]']          \n",
      " g2D)                                                                                             \n",
      "                                                                                                  \n",
      " conv2d_8 (Conv2D)           (None, 12, 12, 128)          147584    ['max_pooling2d_4[0][0]']     \n",
      "                                                                                                  \n",
      " re_lu_4 (ReLU)              (None, 12, 12, 128)          0         ['conv2d_8[0][0]']            \n",
      "                                                                                                  \n",
      " batch_normalization_9 (Bat  (None, 12, 12, 128)          512       ['re_lu_4[0][0]']             \n",
      " chNormalization)                                                                                 \n",
      "                                                                                                  \n",
      " global_average_pooling2d_4  (None, 128)                  0         ['batch_normalization_9[0][0]'\n",
      "  (GlobalAveragePooling2D)                                          ]                             \n",
      "                                                                                                  \n",
      " dense_10 (Dense)            (None, 8)                    1024      ['global_average_pooling2d_4[0\n",
      "                                                                    ][0]']                        \n",
      "                                                                                                  \n",
      " dense_11 (Dense)            (None, 128)                  1024      ['dense_10[0][0]']            \n",
      "                                                                                                  \n",
      " reshape_4 (Reshape)         (None, 1, 1, 128)            0         ['dense_11[0][0]']            \n",
      "                                                                                                  \n",
      " multiply_3 (Multiply)       (None, 12, 12, 128)          0         ['batch_normalization_9[0][0]'\n",
      "                                                                    , 'reshape_4[0][0]']          \n",
      "                                                                                                  \n",
      " max_pooling2d_5 (MaxPoolin  (None, 6, 6, 128)            0         ['multiply_3[0][0]']          \n",
      " g2D)                                                                                             \n",
      "                                                                                                  \n",
      " dropout_4 (Dropout)         (None, 6, 6, 128)            0         ['max_pooling2d_5[0][0]']     \n",
      "                                                                                                  \n",
      " flatten_1 (Flatten)         (None, 4608)                 0         ['dropout_4[0][0]']           \n",
      "                                                                                                  \n",
      " dense_12 (Dense)            (None, 1024)                 4719616   ['flatten_1[0][0]']           \n",
      "                                                                                                  \n",
      " batch_normalization_10 (Ba  (None, 1024)                 4096      ['dense_12[0][0]']            \n",
      " tchNormalization)                                                                                \n",
      "                                                                                                  \n",
      " dropout_5 (Dropout)         (None, 1024)                 0         ['batch_normalization_10[0][0]\n",
      "                                                                    ']                            \n",
      "                                                                                                  \n",
      " dense_13 (Dense)            (None, 256)                  262400    ['dropout_5[0][0]']           \n",
      "                                                                                                  \n",
      " batch_normalization_11 (Ba  (None, 256)                  1024      ['dense_13[0][0]']            \n",
      " tchNormalization)                                                                                \n",
      "                                                                                                  \n",
      " dropout_6 (Dropout)         (None, 256)                  0         ['batch_normalization_11[0][0]\n",
      "                                                                    ']                            \n",
      "                                                                                                  \n",
      " dense_14 (Dense)            (None, 7)                    1799      ['dropout_6[0][0]']           \n",
      "                                                                                                  \n",
      "==================================================================================================\n",
      "Total params: 5235335 (19.97 MB)\n",
      "Trainable params: 5232071 (19.96 MB)\n",
      "Non-trainable params: 3264 (12.75 KB)\n",
      "__________________________________________________________________________________________________\n"
     ]
    }
   ],
   "source": [
    "def squeeze_excite_block(input_tensor, ratio=16):\n",
    "    init = input_tensor\n",
    "    channel_axis = -1  \n",
    "    filters = init.shape[channel_axis]\n",
    "    \n",
    "    se = GlobalAveragePooling2D()(init)\n",
    "    se = Dense(filters // ratio, activation='relu', use_bias=False)(se)\n",
    "    se = Dense(filters, activation='sigmoid', use_bias=False)(se)\n",
    "    se = Reshape((1, 1, filters))(se)\n",
    "    x = Multiply()([init, se])\n",
    "    return x\n",
    "\n",
    "# Model definition, use Functional API instead of Sequential\n",
    "input_img = Input(shape=(48, 48, 1))\n",
    "\n",
    "# 1st conv block\n",
    "x = Conv2D(32, kernel_size=(3, 3), padding='same')(input_img)\n",
    "x = ReLU()(x)\n",
    "x = BatchNormalization()(x)\n",
    "x = squeeze_excite_block(x)  \n",
    "\n",
    "# 2nd conv block\n",
    "x = Conv2D(64, kernel_size=(3, 3), padding='same')(x)\n",
    "x = ReLU()(x)\n",
    "x = BatchNormalization()(x)\n",
    "x = squeeze_excite_block(x)  \n",
    "x = MaxPooling2D(pool_size=(2, 2))(x)\n",
    "x = Dropout(0.25)(x)\n",
    "\n",
    "# 3rd conv block\n",
    "x = Conv2D(128, kernel_size=(3, 3), padding='same')(x)\n",
    "x = ReLU()(x)\n",
    "x = BatchNormalization()(x)\n",
    "x = squeeze_excite_block(x)  \n",
    "x = MaxPooling2D(pool_size=(2, 2))(x)\n",
    "\n",
    "# 4th conv block\n",
    "x = Conv2D(128, kernel_size=(3, 3), padding='same')(x)\n",
    "x = ReLU()(x)\n",
    "x = BatchNormalization()(x)\n",
    "x = squeeze_excite_block(x)\n",
    "x = MaxPooling2D(pool_size=(2, 2))(x)\n",
    "x = Dropout(0.25)(x)\n",
    "\n",
    "# Flatten and Dense Layers\n",
    "x = Flatten()(x)\n",
    "x = Dense(1024, activation='relu')(x)\n",
    "x = BatchNormalization()(x)\n",
    "x = Dropout(0.5)(x)\n",
    "\n",
    "# Additional Dense layer to increase complexity\n",
    "x = Dense(256, activation='relu')(x)\n",
    "x = BatchNormalization()(x)\n",
    "x = Dropout(0.5)(x)\n",
    "\n",
    "# Output layer\n",
    "output = Dense(7, activation='softmax')(x)\n",
    "\n",
    "model_with_se = Model(inputs=input_img, outputs=output)\n",
    "\n",
    "\n",
    "# Set up the learning rate schedule and compile the model\n",
    "initial_learning_rate = 0.0001\n",
    "lr_schedule = ExponentialDecay(\n",
    "    initial_learning_rate,\n",
    "    decay_steps=100000,\n",
    "    decay_rate=0.96,\n",
    "    staircase=True)\n",
    "\n",
    "optimizer = Adam(learning_rate=lr_schedule)\n",
    "\n",
    "model_with_se.compile(optimizer=optimizer,\n",
    "              loss='categorical_crossentropy',\n",
    "              metrics=['accuracy'])\n",
    "\n",
    "model_with_se.summary()\n"
   ]
  },
  {
   "cell_type": "code",
   "execution_count": 19,
   "id": "66e6a41a",
   "metadata": {},
   "outputs": [
    {
     "name": "stdout",
     "output_type": "stream",
     "text": [
      "Epoch 1/25\n"
     ]
    },
    {
     "name": "stderr",
     "output_type": "stream",
     "text": [
      "2024-03-22 02:32:33.773432: E tensorflow/core/grappler/optimizers/meta_optimizer.cc:954] layout failed: INVALID_ARGUMENT: Size of values 0 does not match size of permutation 4 @ fanin shape inmodel/dropout_3/dropout/SelectV2-2-TransposeNHWCToNCHW-LayoutOptimizer\n"
     ]
    },
    {
     "name": "stdout",
     "output_type": "stream",
     "text": [
      "122/122 [==============================] - 14s 55ms/step - loss: 2.5864 - accuracy: 0.2760 - val_loss: 2.0166 - val_accuracy: 0.2000\n",
      "Epoch 2/25\n",
      "122/122 [==============================] - 6s 52ms/step - loss: 2.0088 - accuracy: 0.4046 - val_loss: 3.3455 - val_accuracy: 0.1937\n",
      "Epoch 3/25\n",
      "122/122 [==============================] - 7s 54ms/step - loss: 1.7706 - accuracy: 0.4769 - val_loss: 3.7401 - val_accuracy: 0.1948\n",
      "Epoch 4/25\n",
      "122/122 [==============================] - 7s 53ms/step - loss: 1.6047 - accuracy: 0.5159 - val_loss: 2.3032 - val_accuracy: 0.3057\n",
      "Epoch 5/25\n",
      "122/122 [==============================] - 6s 52ms/step - loss: 1.4876 - accuracy: 0.5420 - val_loss: 1.3036 - val_accuracy: 0.5625\n",
      "Epoch 6/25\n",
      "122/122 [==============================] - 6s 51ms/step - loss: 1.3872 - accuracy: 0.5663 - val_loss: 1.0353 - val_accuracy: 0.6391\n",
      "Epoch 7/25\n",
      "122/122 [==============================] - 6s 49ms/step - loss: 1.3117 - accuracy: 0.5867 - val_loss: 0.9363 - val_accuracy: 0.6766\n",
      "Epoch 8/25\n",
      "122/122 [==============================] - 6s 48ms/step - loss: 1.2113 - accuracy: 0.6201 - val_loss: 0.8870 - val_accuracy: 0.6974\n",
      "Epoch 9/25\n",
      "122/122 [==============================] - 6s 48ms/step - loss: 1.1725 - accuracy: 0.6274 - val_loss: 0.8858 - val_accuracy: 0.6927\n",
      "Epoch 10/25\n",
      "122/122 [==============================] - 6s 48ms/step - loss: 1.0921 - accuracy: 0.6502 - val_loss: 0.8618 - val_accuracy: 0.7052\n",
      "Epoch 11/25\n",
      "122/122 [==============================] - 6s 48ms/step - loss: 1.0539 - accuracy: 0.6592 - val_loss: 0.8369 - val_accuracy: 0.7047\n",
      "Epoch 12/25\n",
      "122/122 [==============================] - 6s 45ms/step - loss: 1.0093 - accuracy: 0.6714 - val_loss: 0.7769 - val_accuracy: 0.7401\n",
      "Epoch 13/25\n",
      "122/122 [==============================] - 6s 48ms/step - loss: 0.9599 - accuracy: 0.6774 - val_loss: 0.7943 - val_accuracy: 0.7333\n",
      "Epoch 14/25\n",
      "122/122 [==============================] - 6s 47ms/step - loss: 0.9161 - accuracy: 0.6945 - val_loss: 0.7556 - val_accuracy: 0.7437\n",
      "Epoch 15/25\n",
      "122/122 [==============================] - 6s 45ms/step - loss: 0.8691 - accuracy: 0.7127 - val_loss: 0.7512 - val_accuracy: 0.7453\n",
      "Epoch 16/25\n",
      "122/122 [==============================] - 6s 50ms/step - loss: 0.8561 - accuracy: 0.7104 - val_loss: 0.7635 - val_accuracy: 0.7453\n",
      "Epoch 17/25\n",
      "122/122 [==============================] - 6s 51ms/step - loss: 0.8070 - accuracy: 0.7249 - val_loss: 0.7385 - val_accuracy: 0.7453\n",
      "Epoch 18/25\n",
      "122/122 [==============================] - 6s 52ms/step - loss: 0.7885 - accuracy: 0.7330 - val_loss: 0.7032 - val_accuracy: 0.7630\n",
      "Epoch 19/25\n",
      "122/122 [==============================] - 6s 51ms/step - loss: 0.7506 - accuracy: 0.7411 - val_loss: 0.6998 - val_accuracy: 0.7667\n",
      "Epoch 20/25\n",
      "122/122 [==============================] - 6s 51ms/step - loss: 0.7593 - accuracy: 0.7419 - val_loss: 0.6970 - val_accuracy: 0.7651\n",
      "Epoch 21/25\n",
      "122/122 [==============================] - 6s 51ms/step - loss: 0.7101 - accuracy: 0.7569 - val_loss: 0.7219 - val_accuracy: 0.7599\n",
      "Epoch 22/25\n",
      "122/122 [==============================] - 6s 51ms/step - loss: 0.6939 - accuracy: 0.7569 - val_loss: 0.7108 - val_accuracy: 0.7714\n",
      "Epoch 23/25\n",
      "122/122 [==============================] - 6s 48ms/step - loss: 0.6594 - accuracy: 0.7672 - val_loss: 0.6961 - val_accuracy: 0.7677\n",
      "Epoch 24/25\n",
      "122/122 [==============================] - 6s 48ms/step - loss: 0.6539 - accuracy: 0.7719 - val_loss: 0.6651 - val_accuracy: 0.7823\n",
      "Epoch 25/25\n",
      "122/122 [==============================] - 6s 52ms/step - loss: 0.6146 - accuracy: 0.7804 - val_loss: 0.7134 - val_accuracy: 0.7719\n"
     ]
    }
   ],
   "source": [
    "#initial training on just labeled\n",
    "model_with_se_info = model_with_se.fit(\n",
    "    train_generator,\n",
    "    steps_per_epoch=7855 // 64,  \n",
    "    epochs=25,  \n",
    "    validation_data=validation_generator,\n",
    "    validation_steps=1959 // 64  \n",
    ")"
   ]
  },
  {
   "cell_type": "code",
   "execution_count": 20,
   "id": "9283b2ef",
   "metadata": {},
   "outputs": [
    {
     "name": "stdout",
     "output_type": "stream",
     "text": [
      "Epoch 1/10\n",
      "140/140 [==============================] - 7s 52ms/step - loss: 0.6063 - accuracy: 0.7855 - val_loss: 0.7080 - val_accuracy: 0.7753\n",
      "Epoch 2/10\n",
      "140/140 [==============================] - 7s 47ms/step - loss: 0.5693 - accuracy: 0.8000 - val_loss: 0.6702 - val_accuracy: 0.7790\n",
      "Epoch 3/10\n",
      "140/140 [==============================] - 7s 49ms/step - loss: 0.5536 - accuracy: 0.8009 - val_loss: 0.6735 - val_accuracy: 0.7767\n",
      "Epoch 4/10\n",
      "140/140 [==============================] - 7s 48ms/step - loss: 0.5357 - accuracy: 0.8113 - val_loss: 0.6797 - val_accuracy: 0.7826\n",
      "Epoch 5/10\n",
      "140/140 [==============================] - 7s 49ms/step - loss: 0.5115 - accuracy: 0.8208 - val_loss: 0.6798 - val_accuracy: 0.7803\n",
      "Epoch 6/10\n",
      "140/140 [==============================] - 7s 48ms/step - loss: 0.5087 - accuracy: 0.8208 - val_loss: 0.6878 - val_accuracy: 0.7757\n",
      "Epoch 7/10\n",
      "140/140 [==============================] - 8s 54ms/step - loss: 0.4916 - accuracy: 0.8262 - val_loss: 0.6835 - val_accuracy: 0.7721\n",
      "Epoch 8/10\n",
      "140/140 [==============================] - 7s 49ms/step - loss: 0.4516 - accuracy: 0.8415 - val_loss: 0.6830 - val_accuracy: 0.7835\n",
      "Epoch 9/10\n",
      "140/140 [==============================] - 7s 46ms/step - loss: 0.4427 - accuracy: 0.8432 - val_loss: 0.6489 - val_accuracy: 0.7950\n",
      "Epoch 10/10\n",
      "140/140 [==============================] - 7s 52ms/step - loss: 0.4320 - accuracy: 0.8474 - val_loss: 0.6782 - val_accuracy: 0.7955\n"
     ]
    }
   ],
   "source": [
    "#retrain on combined\n",
    "steps_per_epoch = train_generator_combined.samples // train_generator_combined.batch_size\n",
    "validation_steps = validation_generator.samples // validation_generator.batch_size\n",
    "\n",
    "model_with_se_info = model_with_se.fit(\n",
    "    train_generator_combined,\n",
    "    steps_per_epoch=steps_per_epoch,\n",
    "    epochs=10,  \n",
    "    validation_data=validation_generator,\n",
    "    validation_steps=validation_steps\n",
    ")"
   ]
  },
  {
   "cell_type": "code",
   "execution_count": 22,
   "id": "c82fa6f8",
   "metadata": {
    "scrolled": true
   },
   "outputs": [
    {
     "data": {
      "image/png": "[encoded data removed]",
      "text/plain": [
       "<Figure size 864x360 with 2 Axes>"
      ]
     },
     "metadata": {
      "needs_background": "light"
     },
     "output_type": "display_data"
    }
   ],
   "source": [
    "# visualize\n",
    "\n",
    "accuracy = model_with_se_info.history['accuracy']\n",
    "val_accuracy = model_with_se_info.history['val_accuracy']\n",
    "loss = model_with_se_info.history['loss']\n",
    "val_loss = model_with_se_info.history['val_loss']\n",
    "\n",
    "plt.figure(figsize=(12, 5))\n",
    "\n",
    "# accuracy graph\n",
    "plt.subplot(1, 2, 1)\n",
    "plt.plot(accuracy, label='accuracy')\n",
    "plt.plot(val_accuracy, label='val accuracy')\n",
    "plt.title('Accuracy for Improved SE Model on RAF-DB')\n",
    "plt.xlabel('Epochs')\n",
    "plt.ylabel('Accuracy')\n",
    "plt.legend()\n",
    "\n",
    "# loss graph\n",
    "plt.subplot(1, 2, 2)\n",
    "plt.plot(loss, label='loss')\n",
    "plt.plot(val_loss, label='val loss')\n",
    "plt.title('Loss for Improved SE Model on RAF-DB')\n",
    "plt.xlabel('Epochs')\n",
    "plt.ylabel('Loss')\n",
    "plt.legend()\n",
    "\n",
    "plt.show()"
   ]
  },
  {
   "cell_type": "code",
   "execution_count": 23,
   "id": "458da3c5",
   "metadata": {},
   "outputs": [
    {
     "name": "stdout",
     "output_type": "stream",
     "text": [
      "48/48 [==============================] - 5s 97ms/step - loss: 0.7565 - accuracy: 0.7643\n",
      "Test loss: 0.7564506530761719\n",
      "Test accuracy: 0.7643415927886963\n"
     ]
    }
   ],
   "source": [
    "results = model_with_se.evaluate(test_generator, steps=len(test_generator))\n",
    "\n",
    "# Test results\n",
    "print(\"Test loss:\", results[0])\n",
    "print(\"Test accuracy:\", results[1])"
   ]
  }
 ],
 "metadata": {
  "kernelspec": {
   "display_name": "Python 3 (clean)",
   "language": "python",
   "name": "python3_clean"
  },
  "language_info": {
   "codemirror_mode": {
    "name": "ipython",
    "version": 3
   },
   "file_extension": ".py",
   "mimetype": "text/x-python",
   "name": "python",
   "nbconvert_exporter": "python",
   "pygments_lexer": "ipython3",
   "version": "3.9.5"
  }
 },
 "nbformat": 4,
 "nbformat_minor": 5
}
